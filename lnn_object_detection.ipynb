{
 "cells": [
  {
   "cell_type": "code",
   "execution_count": 1,
   "metadata": {},
   "outputs": [
    {
     "name": "stderr",
     "output_type": "stream",
     "text": [
      "/home/felix/anaconda3/envs/ADLR2/lib/python3.7/site-packages/tqdm/auto.py:21: TqdmWarning: IProgress not found. Please update jupyter and ipywidgets. See https://ipywidgets.readthedocs.io/en/stable/user_install.html\n",
      "  from .autonotebook import tqdm as notebook_tqdm\n"
     ]
    }
   ],
   "source": [
    "import torch\n",
    "import torch.nn as nn\n",
    "import numpy as np\n",
    "import torch.utils.data as data\n",
    "import pytorch_lightning as pl\n",
    "import matplotlib.pyplot as plt\n",
    "from ncps.wirings import AutoNCP\n",
    "from ncps.torch import LTC\n",
    "\n",
    "from state_representation import ImageDataset, record_resets, CombineTransform, NormalizeTransform, ReshapeTransform\n",
    "from utils.config import AE_CONFIG"
   ]
  },
  {
   "cell_type": "markdown",
   "metadata": {},
   "source": [
    "# Data collection and preprocessing"
   ]
  },
  {
   "cell_type": "code",
   "execution_count": 2,
   "metadata": {},
   "outputs": [],
   "source": [
    "IMAGE_PATH = \"./state_representation/reset_image_data_agent\"\n",
    "LABEL_PATH = \"./state_representation/reset_label_data_agent\""
   ]
  },
  {
   "cell_type": "code",
   "execution_count": null,
   "metadata": {},
   "outputs": [],
   "source": [
    "# NOTE: uncomment if new dataset is necessary\n",
    "# record_resets(IMAGE_PATH, 10000, AE_CONFIG.env)"
   ]
  },
  {
   "cell_type": "code",
   "execution_count": 4,
   "metadata": {},
   "outputs": [],
   "source": [
    "transform = CombineTransform([\n",
    "    NormalizeTransform(start=(0, 255), end=(0, 1)),\n",
    "    ReshapeTransform((128, 128, 3))\n",
    "])\n",
    "\n",
    "dataset = ImageDataset(IMAGE_PATH, transform=transform)"
   ]
  },
  {
   "cell_type": "code",
   "execution_count": 6,
   "metadata": {},
   "outputs": [],
   "source": [
    "# NOTE: uncomment if new dataset is necessary\n",
    "# labels = []\n",
    "\n",
    "# blue = torch.tensor([0., 0., 1.])\n",
    "# for image in dataset:\n",
    "#     agent = []\n",
    "#     for i, h in enumerate(image):\n",
    "#         for j, w in enumerate(h):\n",
    "#             if w.equal(blue):\n",
    "#                 agent.append((i, j))\n",
    "    \n",
    "#     center = np.round(np.array(agent).mean(axis=0)).astype(int)\n",
    "#     labels.append(center)\n",
    "\n",
    "# labels = torch.tensor(np.array(labels))\n",
    "# torch.save(labels, LABEL_PATH + \".pt\")\n",
    "    "
   ]
  },
  {
   "cell_type": "code",
   "execution_count": 4,
   "metadata": {},
   "outputs": [
    {
     "name": "stdout",
     "output_type": "stream",
     "text": [
      "data_x.shape:  torch.Size([10000, 3, 128, 128])\n",
      "data_y.shape:  torch.Size([10000, 2])\n"
     ]
    }
   ],
   "source": [
    "N = 1 # Length of the time-series\n",
    "data_x = torch.load(IMAGE_PATH + \".pt\").float()\n",
    "# Target output is a sine with double the frequency of the input signal\n",
    "data_y = torch.load(LABEL_PATH + \".pt\").float()\n",
    "print(\"data_x.shape: \", str(data_x.shape))\n",
    "print(\"data_y.shape: \", str(data_y.shape))\n",
    "# data_x = torch.Tensor(data_x)\n",
    "# data_y = torch.Tensor(data_y)\n",
    "dataloader = data.DataLoader(\n",
    "    data.TensorDataset(data_x, data_y), batch_size=1, shuffle=True, num_workers=4\n",
    ")"
   ]
  },
  {
   "cell_type": "markdown",
   "metadata": {},
   "source": [
    "# Training a Liquid Neural Network"
   ]
  },
  {
   "cell_type": "code",
   "execution_count": 5,
   "metadata": {},
   "outputs": [],
   "source": [
    "# LightningModule for training a RNNSequence module\n",
    "class SequenceLearner(pl.LightningModule):\n",
    "    def __init__(self, model, lr=0.005):\n",
    "        super().__init__()\n",
    "        self.model = model\n",
    "        self.lr = lr\n",
    "\n",
    "    def training_step(self, batch, batch_idx):\n",
    "        x, y = batch\n",
    "        # x = x.reshape((x.shape[0], 128*128*3))\n",
    "        y_hat, _ = self.model.forward(x)\n",
    "        y_hat = y_hat.view_as(y)\n",
    "        loss = nn.MSELoss()(y_hat, y)\n",
    "        self.log(\"train_loss\", loss, prog_bar=True)\n",
    "        return {\"loss\": loss}\n",
    "\n",
    "    def validation_step(self, batch, batch_idx):\n",
    "        x, y = batch\n",
    "        # x = x.reshape((x.shape[0], 128*128*3))\n",
    "        y_hat, _ = self.model.forward(x)\n",
    "        y_hat = y_hat.view_as(y)\n",
    "        loss = nn.MSELoss()(y_hat, y)\n",
    "\n",
    "        self.log(\"val_loss\", loss, prog_bar=True)\n",
    "        return loss\n",
    "\n",
    "    def test_step(self, batch, batch_idx):\n",
    "        # Here we just reuse the validation_step for testing\n",
    "        return self.validation_step(batch, batch_idx)\n",
    "\n",
    "    def configure_optimizers(self):\n",
    "        return torch.optim.Adam(self.model.parameters(), lr=self.lr)"
   ]
  },
  {
   "cell_type": "code",
   "execution_count": 6,
   "metadata": {},
   "outputs": [
    {
     "name": "stderr",
     "output_type": "stream",
     "text": [
      "GPU available: True (cuda), used: True\n",
      "TPU available: False, using: 0 TPU cores\n",
      "IPU available: False, using: 0 IPUs\n",
      "HPU available: False, using: 0 HPUs\n"
     ]
    }
   ],
   "source": [
    "torch.set_float32_matmul_precision('medium')\n",
    "out_features = 2\n",
    "in_features = 14 * 14 * 32\n",
    "\n",
    "wiring = AutoNCP(16, out_features)  # 16 units, 1 motor neuron\n",
    "\n",
    "model = nn.Sequential(\n",
    "    nn.Conv2d(in_channels=3, out_channels=8, kernel_size=5, stride=2),\n",
    "    nn.BatchNorm2d(8),\n",
    "    nn.ReLU(),\n",
    "    nn.Conv2d(8, 16, kernel_size=3, stride=2),\n",
    "    nn.BatchNorm2d(16),\n",
    "    nn.ReLU(),\n",
    "    nn.Conv2d(16, 32, kernel_size=3, stride=2),\n",
    "    nn.BatchNorm2d(32),\n",
    "    nn.ReLU(),\n",
    "    nn.Flatten(),\n",
    "    LTC(in_features, wiring, batch_first=True)\n",
    ")\n",
    "learn = SequenceLearner(model, lr=0.01)\n",
    "trainer = pl.Trainer(\n",
    "    logger=pl.loggers.CSVLogger(\"log\"),\n",
    "    max_epochs=5,\n",
    "    gradient_clip_val=1,  # Clip gradient to stabilize training\n",
    "    accelerator=\"gpu\",\n",
    "    devices=1\n",
    ")"
   ]
  },
  {
   "cell_type": "code",
   "execution_count": 7,
   "metadata": {},
   "outputs": [
    {
     "name": "stderr",
     "output_type": "stream",
     "text": [
      "/home/felix/anaconda3/envs/ADLR2/lib/python3.7/site-packages/pytorch_lightning/trainer/configuration_validator.py:110: PossibleUserWarning: You defined a `validation_step` but have no `val_dataloader`. Skipping val loop.\n",
      "  category=PossibleUserWarning,\n",
      "LOCAL_RANK: 0 - CUDA_VISIBLE_DEVICES: [0]\n",
      "\n",
      "  | Name  | Type       | Params\n",
      "-------------------------------------\n",
      "0 | model | Sequential | 522 K \n",
      "-------------------------------------\n",
      "421 K     Trainable params\n",
      "100 K     Non-trainable params\n",
      "522 K     Total params\n",
      "2.089     Total estimated model params size (MB)\n"
     ]
    },
    {
     "name": "stdout",
     "output_type": "stream",
     "text": [
      "Epoch 4: 100%|██████████| 10000/10000 [00:51<00:00, 195.72it/s, loss=6.65, v_num=15, train_loss=5.030]      "
     ]
    },
    {
     "name": "stderr",
     "output_type": "stream",
     "text": [
      "`Trainer.fit` stopped: `max_epochs=5` reached.\n"
     ]
    },
    {
     "name": "stdout",
     "output_type": "stream",
     "text": [
      "Epoch 4: 100%|██████████| 10000/10000 [00:51<00:00, 195.68it/s, loss=6.65, v_num=15, train_loss=5.030]\n"
     ]
    }
   ],
   "source": [
    "# Train the model for 400 epochs (= training steps)\n",
    "trainer.fit(learn, dataloader)"
   ]
  },
  {
   "cell_type": "code",
   "execution_count": 16,
   "metadata": {},
   "outputs": [
    {
     "name": "stdout",
     "output_type": "stream",
     "text": [
      "Predicted: [[118.689735 105.957405]], True: tensor([120., 111.])\n",
      "Predicted: [[100.16912  38.35141]], True: tensor([100.,  40.])\n",
      "Predicted: [[ 85.449814 118.219376]], True: tensor([ 82., 117.])\n",
      "Predicted: [[23.72602 77.41425]], True: tensor([25., 79.])\n",
      "Predicted: [[ 9.97237 30.3592 ]], True: tensor([ 7., 32.])\n",
      "Predicted: [[10.271697 55.066082]], True: tensor([11., 59.])\n",
      "Predicted: [[10.593664 22.459108]], True: tensor([10., 23.])\n",
      "Predicted: [[63.223976 73.96355 ]], True: tensor([64., 74.])\n",
      "Predicted: [[11.102107 90.29119 ]], True: tensor([ 9., 93.])\n",
      "Predicted: [[73.82364  32.706394]], True: tensor([72., 31.])\n"
     ]
    }
   ],
   "source": [
    "for i in np.random.randint(0, 10000, size=10, dtype=int):\n",
    "    sample = data_x[i].unsqueeze(0)\n",
    "    label = data_y[i]\n",
    "    prediction = model.forward(sample)\n",
    "    prediction = prediction[0].detach().numpy()\n",
    "\n",
    "    print(f\"Predicted: {prediction}, True: {label}\")"
   ]
  }
 ],
 "metadata": {
  "kernelspec": {
   "display_name": "ADLR2",
   "language": "python",
   "name": "python3"
  },
  "language_info": {
   "codemirror_mode": {
    "name": "ipython",
    "version": 3
   },
   "file_extension": ".py",
   "mimetype": "text/x-python",
   "name": "python",
   "nbconvert_exporter": "python",
   "pygments_lexer": "ipython3",
   "version": "3.7.16"
  }
 },
 "nbformat": 4,
 "nbformat_minor": 2
}
